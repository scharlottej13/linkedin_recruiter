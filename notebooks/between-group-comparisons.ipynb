{
 "cells": [
  {
   "cell_type": "code",
   "execution_count": null,
   "id": "british-quantity",
   "metadata": {},
   "outputs": [],
   "source": [
    "## Difference between countries pairs that shared a common colonizer?"
   ]
  },
  {
   "cell_type": "code",
   "execution_count": null,
   "id": "differential-nepal",
   "metadata": {},
   "outputs": [],
   "source": [
    "px.scatter(\n",
    "    square_df.sort_values(by='query_date'), x='log_gdp_dest', y='log_flow',\n",
    "    hover_data=['country_orig', 'country_dest', 'flow'], color='comcol_categ',\n",
    "    title='Global Migration Aspirations vs. Destination GDP',\n",
    "    labels={'log_flow': 'Migration Aspirations (log(number))',\n",
    "            'flow': 'Migration Aspirations (number)',\n",
    "            'log_gdp_dest': 'Destination GDP (log)', 'comcol_categ': 'Common Colonizer post 1945',\n",
    "            'country_dest': 'Destination', 'country_orig': 'Origin'},\n",
    "    color_discrete_map={'Unknown': '#D3D3D3', 'Yes': \"#d55e00\", 'No': \"#0072b2\"}, animation_frame=\"query_date\"\n",
    ")"
   ]
  },
  {
   "cell_type": "code",
   "execution_count": null,
   "id": "variable-yacht",
   "metadata": {},
   "outputs": [],
   "source": [
    "fig = px.box(\n",
    "    square_df.sort_values(by='query_date'), y=\"log_flow\",\n",
    "    hover_data=['country_orig', 'country_dest', 'flow'],\n",
    "    color='comcol_categ',\n",
    "    animation_frame=\"query_date\",\n",
    "    title='Global distribution of bilateral migration aspirations',\n",
    "    labels={'log_flow': 'Migration Aspirations (log(number))',\n",
    "            'comcol_categ': 'Shared Common Colonizer post 1945',\n",
    "            'country_dest': 'Destination', 'country_orig': 'Origin'},\n",
    "    color_discrete_map={'Unknown': '#D3D3D3', 'Yes': \"#d55e00\", 'No': \"#0072b2\"}\n",
    ")\n",
    "fig.show()"
   ]
  }
 ],
 "metadata": {
  "kernelspec": {
   "display_name": "Python 3",
   "language": "python",
   "name": "python3"
  },
  "language_info": {
   "codemirror_mode": {
    "name": "ipython",
    "version": 3
   },
   "file_extension": ".py",
   "mimetype": "text/x-python",
   "name": "python",
   "nbconvert_exporter": "python",
   "pygments_lexer": "ipython3",
   "version": "3.8.5"
  }
 },
 "nbformat": 4,
 "nbformat_minor": 5
}
